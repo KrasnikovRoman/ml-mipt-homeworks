{
 "cells": [
  {
   "cell_type": "markdown",
   "metadata": {
    "colab_type": "text",
    "id": "v5Fj-ahf25os"
   },
   "source": [
    "# Домашнее задание №1: Классификация. \n",
    "# Логистическая регрессия и kNN."
   ]
  },
  {
   "cell_type": "markdown",
   "metadata": {},
   "source": [
    "*While the machines are being fixed.*"
   ]
  },
  {
   "cell_type": "markdown",
   "metadata": {},
   "source": [
    "Формат сдачи будет объявлен позднее. Либо это будет проверяющая система, либо telegram-бот. "
   ]
  },
  {
   "cell_type": "markdown",
   "metadata": {
    "colab_type": "text",
    "id": "I6Hq7E5o25ou"
   },
   "source": [
    "<span style=\"color: red; font-size: 14pt\">Дедлайны: \n",
    "* ФИВТ, третий курс - 4 марта 23:59\n",
    "* Открытый курс - 7 марта, 23:59\n",
    "</span>"
   ]
  },
  {
   "cell_type": "markdown",
   "metadata": {
    "colab_type": "text",
    "id": "qZX1Urv425ov"
   },
   "source": [
    "### Часть 1. Небольшой numpy-разогрев. (10%)"
   ]
  },
  {
   "cell_type": "code",
   "execution_count": 2,
   "metadata": {
    "colab": {
     "autoexec": {
      "startup": false,
      "wait_interval": 0
     }
    },
    "colab_type": "code",
    "id": "ABwrGwvF25ow"
   },
   "outputs": [],
   "source": [
    "import numpy as np\n",
    "import pandas as pd"
   ]
  },
  {
   "cell_type": "code",
   "execution_count": 3,
   "metadata": {
    "colab": {
     "autoexec": {
      "startup": false,
      "wait_interval": 0
     }
    },
    "colab_type": "code",
    "id": "GYgIRlqf25o0"
   },
   "outputs": [
    {
     "data": {
      "text/plain": [
       "array([[48, 41, 98,  4, 74, 79, 25, 47,  9, 10],\n",
       "       [71, 62, 94, 36, 54, 91, 60,  3,  4, 99],\n",
       "       [76, 57, 92, 37, 60, 20, 12,  4, 28, 77],\n",
       "       [66, 23,  7,  6, 42, 90, 72, 28, 66, 73],\n",
       "       [38, 86, 49, 48, 71, 66, 25, 47, 72, 16],\n",
       "       [ 7, 48, 17, 75, 41, 84, 21, 19, 14, 99],\n",
       "       [78, 99, 51, 57, 26, 65, 92, 98, 86, 10],\n",
       "       [ 2,  4, 91, 24, 62, 37, 36, 47, 51,  3],\n",
       "       [84, 91, 98, 54,  7, 88, 43,  2, 51, 11],\n",
       "       [36, 35, 95,  2, 31, 58, 76, 86, 51, 92]])"
      ]
     },
     "execution_count": 3,
     "metadata": {},
     "output_type": "execute_result"
    }
   ],
   "source": [
    "# Создайте случайную матрицу A размерами 10 на 10 из целых чисел от 0 до 100\n",
    "# hint: np.random.randint\n",
    "\n",
    "# Ваш код здесь\n",
    "\n",
    "integers = np.random.randint(1, 101, 100)\n",
    "A = integers.reshape(10, 10)\n",
    "A"
   ]
  },
  {
   "cell_type": "code",
   "execution_count": 8,
   "metadata": {
    "colab": {
     "autoexec": {
      "startup": false,
      "wait_interval": 0
     }
    },
    "colab_type": "code",
    "id": "7aB62Lzk25o2"
   },
   "outputs": [
    {
     "data": {
      "text/plain": [
       "array([44.8, 66.2, 50.9, 44.8, 42.9, 55. , 40.1, 69.1, 51.5, 39.2])"
      ]
     },
     "execution_count": 8,
     "metadata": {},
     "output_type": "execute_result"
    }
   ],
   "source": [
    "# Посчитайте средние значения в матрице по столбцам\n",
    "\n",
    "# Ваш код здесь\n",
    "\n",
    "means = A.mean(axis=0)\n",
    "means"
   ]
  },
  {
   "cell_type": "code",
   "execution_count": 9,
   "metadata": {
    "colab": {
     "autoexec": {
      "startup": false,
      "wait_interval": 0
     }
    },
    "colab_type": "code",
    "id": "MTLnNqV425o5"
   },
   "outputs": [
    {
     "data": {
      "text/plain": [
       "array([[ 65,   9,  26,  63,   9,  85,  77,  20,  38,  56],\n",
       "       [ 99,  15,  35,  34,  74,  92,  95,  99,  75,  44],\n",
       "       [ 61,  88,  80,  26,   2,  79, 100,  54,  13,   6],\n",
       "       [  7,  30,  11,  28,  57,  20,  81,  31,  96,  87],\n",
       "       [ 41,  16,  11,  97,  67,  36,  54,   3,  82,  22],\n",
       "       [ 22,  98,  51,  97,  30,  59,   6,  78,  99,  10],\n",
       "       [ 77,  14,  10,  29,  19,  76,   7,  43,  86,  40],\n",
       "       [ 59,  94,  86, 100,  96,  39,  21,  41,  58,  97],\n",
       "       [  8,  68,  99,  41,  14,  45,  82,  30,  38,  90],\n",
       "       [ 45,  25,  20,  95,   2,   6,  57,  48,   1,  93]])"
      ]
     },
     "execution_count": 9,
     "metadata": {},
     "output_type": "execute_result"
    }
   ],
   "source": [
    "# Транспонируйте матрицу A\n",
    "\n",
    "# Ваш код здесь\n",
    "\n",
    "A.T"
   ]
  },
  {
   "cell_type": "code",
   "execution_count": 10,
   "metadata": {
    "colab": {
     "autoexec": {
      "startup": false,
      "wait_interval": 0
     }
    },
    "colab_type": "code",
    "id": "WgDUhrYV25o8"
   },
   "outputs": [
    {
     "data": {
      "text/plain": [
       "array([[4225,  891, 1586,  441,  369, 1870, 5929, 1180,  304, 2520],\n",
       "       [ 891,  225, 3080, 1020, 1184, 9016, 1330, 9306, 5100, 1100],\n",
       "       [1586, 3080, 6400,  286,   22, 4029, 1000, 4644, 1287,  120],\n",
       "       [ 441, 1020,  286,  784, 5529, 1940, 2349, 3100, 3936, 8265],\n",
       "       [ 369, 1184,   22, 5529, 4489, 1080, 1026,  288, 1148,   44],\n",
       "       [1870, 9016, 4029, 1940, 1080, 3481,  456, 3042, 4455,   60],\n",
       "       [5929, 1330, 1000, 2349, 1026,  456,   49,  903, 7052, 2280],\n",
       "       [1180, 9306, 4644, 3100,  288, 3042,  903, 1681, 1740, 4656],\n",
       "       [ 304, 5100, 1287, 3936, 1148, 4455, 7052, 1740, 1444,   90],\n",
       "       [2520, 1100,  120, 8265,   44,   60, 2280, 4656,   90, 8649]])"
      ]
     },
     "execution_count": 10,
     "metadata": {},
     "output_type": "execute_result"
    }
   ],
   "source": [
    "# Перемножьте поэлементно матрицу A и транспонированную матрицу A \n",
    "\n",
    "# Ваш код здесь\n",
    "\n",
    "A * A.T"
   ]
  },
  {
   "cell_type": "code",
   "execution_count": 14,
   "metadata": {
    "colab": {
     "autoexec": {
      "startup": false,
      "wait_interval": 0
     }
    },
    "colab_type": "code",
    "id": "xwgLyFDD25o9"
   },
   "outputs": [
    {
     "data": {
      "text/plain": [
       "array([[19315, 31087, 30819, 19818, 15119, 23756, 15219, 32746, 27580,\n",
       "        18913],\n",
       "       [20314, 32252, 24973, 17944, 16251, 29726, 21393, 28384, 24470,\n",
       "        13713],\n",
       "       [16584, 29548, 22454, 18787, 15502, 29257, 20778, 27267, 22370,\n",
       "        11675],\n",
       "       [27070, 44621, 26903, 27650, 23438, 30376, 27443, 41346, 27747,\n",
       "        22970],\n",
       "       [12074, 24174, 18485, 14353, 15179, 25869, 12500, 26302, 15077,\n",
       "        13915],\n",
       "       [23684, 36052, 35181, 20223, 20345, 29429, 20690, 34601, 28388,\n",
       "        16838],\n",
       "       [21826, 31252, 26987, 24004, 25887, 36303, 22374, 46884, 30773,\n",
       "        22469],\n",
       "       [20164, 26313, 28418, 18113, 14975, 27501, 16914, 30540, 27277,\n",
       "        16787],\n",
       "       [27966, 40588, 32671, 24500, 29227, 35274, 22376, 38228, 26556,\n",
       "        21540],\n",
       "       [24369, 36165, 21830, 28646, 25216, 33185, 24600, 38216, 26339,\n",
       "        27784]])"
      ]
     },
     "execution_count": 14,
     "metadata": {},
     "output_type": "execute_result"
    }
   ],
   "source": [
    "# Посчитайте dot product (результат матричного умножения) матрицы A на саму себя и запишите в матрицу B\n",
    "# https://en.wikipedia.org/wiki/Dot_product\n",
    "\n",
    "# Ваш код здесь\n",
    "\n",
    "B = A@A\n",
    "B"
   ]
  },
  {
   "cell_type": "markdown",
   "metadata": {
    "colab_type": "text",
    "id": "9S8tqIMG25pb"
   },
   "source": [
    "### Часть 2. Логистическая регрессия и kNN."
   ]
  },
  {
   "cell_type": "markdown",
   "metadata": {
    "colab_type": "text",
    "id": "T2docs4225pb"
   },
   "source": [
    "Будем работать с подвыборкой из [данных о типе лесного покрытия из репозитория UCI](http://archive.ics.uci.edu/ml/datasets/Covertype). Доступно 7 различных классов. Каждый объект описывается 54 признаками, 40 из которых являются бинарными. Описание данных доступно по ссылке, а так же в файле `covtype.info.txt`."
   ]
  },
  {
   "cell_type": "code",
   "execution_count": 152,
   "metadata": {
    "colab": {
     "autoexec": {
      "startup": false,
      "wait_interval": 0
     }
    },
    "colab_type": "code",
    "id": "rvPrVRvK25pc"
   },
   "outputs": [],
   "source": [
    "all_data = pd.read_csv('forest_dataset.csv')"
   ]
  },
  {
   "cell_type": "markdown",
   "metadata": {
    "colab_type": "text",
    "id": "DrX0W5si25pe"
   },
   "source": [
    "Выделите 20% данных в `delayed_data` в качестве выборки, на которой будет производиться финальное сравнение моделей, в `all_data` поместите оставшиеся 80%."
   ]
  },
  {
   "cell_type": "code",
   "execution_count": 153,
   "metadata": {
    "colab": {
     "autoexec": {
      "startup": false,
      "wait_interval": 0
     }
    },
    "colab_type": "code",
    "id": "Deu3A-yc25pf"
   },
   "outputs": [],
   "source": [
    "# Ваш код здесь\n",
    "\n",
    "all_data_count = all_data.shape[0]\n",
    "delayed_data_count = int(0.2 * all_data_count)\n",
    "\n",
    "delayed_data = all_data.iloc[:delayed_data_count]\n",
    "all_data = all_data.drop(all_data.index[0:delayed_data_count])"
   ]
  },
  {
   "cell_type": "markdown",
   "metadata": {
    "colab_type": "text",
    "id": "itCWxHEY25pg"
   },
   "source": [
    "Выделим значения метки класса в переменную `labels`, признаковые описания в переменную `feature_matrix`. Так как данные числовые и не имеют пропусков, переведем их в `numpy`-формат с помощью метода `.values`."
   ]
  },
  {
   "cell_type": "code",
   "execution_count": 154,
   "metadata": {
    "colab": {
     "autoexec": {
      "startup": false,
      "wait_interval": 0
     }
    },
    "colab_type": "code",
    "id": "f_YIUOuV25ph"
   },
   "outputs": [],
   "source": [
    "labels = all_data[all_data.columns[-1]].values\n",
    "feature_matrix = all_data[all_data.columns[:-1]].values"
   ]
  },
  {
   "cell_type": "markdown",
   "metadata": {
    "colab_type": "text",
    "id": "dKCiU0wz25pj"
   },
   "source": [
    "#### 2.1 Двуклассовая классификация (10%)"
   ]
  },
  {
   "cell_type": "markdown",
   "metadata": {
    "colab_type": "text",
    "id": "LYDttiOJ25pj"
   },
   "source": [
    "Для начала будем работать только с двумя типами лесного покрытия. Обучите линейный классификатор для разделения двух классов. Данные разделите на train и test с помощью `train_test_split`."
   ]
  },
  {
   "cell_type": "code",
   "execution_count": 155,
   "metadata": {
    "colab": {
     "autoexec": {
      "startup": false,
      "wait_interval": 0
     }
    },
    "colab_type": "code",
    "id": "Q030jzyY25pl"
   },
   "outputs": [],
   "source": [
    "from sklearn.model_selection import train_test_split\n",
    "\n",
    "from sklearn.linear_model import LogisticRegression\n",
    "from sklearn.metrics import f1_score, accuracy_score"
   ]
  },
  {
   "cell_type": "code",
   "execution_count": 156,
   "metadata": {
    "colab": {
     "autoexec": {
      "startup": false,
      "wait_interval": 0
     }
    },
    "colab_type": "code",
    "id": "taWX6ME925pn"
   },
   "outputs": [],
   "source": [
    "two_class_labels_indices = (labels == 1) + (labels == 2)\n",
    "\n",
    "two_class_feature_matrix = feature_matrix[two_class_labels_indices]\n",
    "two_class_labels = labels[two_class_labels_indices]"
   ]
  },
  {
   "cell_type": "code",
   "execution_count": 157,
   "metadata": {
    "colab": {
     "autoexec": {
      "startup": false,
      "wait_interval": 0
     }
    },
    "colab_type": "code",
    "id": "zoQPXD_k25po"
   },
   "outputs": [],
   "source": [
    "train_feature_matrix, test_feature_matrix, train_labels, test_labels = train_test_split(\n",
    "    two_class_feature_matrix, two_class_labels, test_size=0.2, random_state=42)"
   ]
  },
  {
   "cell_type": "markdown",
   "metadata": {
    "colab_type": "text",
    "id": "A8iDa9Je25pq"
   },
   "source": [
    "Обучите логистическую регрессию. Оцените качество классификации на отложенной выборке с помощью `accuracy` и `f1_score` ([Wikipedia](https://en.wikipedia.org/wiki/F1_score))."
   ]
  },
  {
   "cell_type": "code",
   "execution_count": 158,
   "metadata": {
    "colab": {
     "autoexec": {
      "startup": false,
      "wait_interval": 0
     }
    },
    "colab_type": "code",
    "id": "9CKtjwv_25pr"
   },
   "outputs": [],
   "source": [
    "lr_clf = LogisticRegression(random_state=42)"
   ]
  },
  {
   "cell_type": "code",
   "execution_count": 159,
   "metadata": {
    "colab": {
     "autoexec": {
      "startup": false,
      "wait_interval": 0
     }
    },
    "colab_type": "code",
    "id": "VF2CeR7W25pt"
   },
   "outputs": [
    {
     "name": "stdout",
     "output_type": "stream",
     "text": [
      "Accuracy of logistic regression classifier on test set: 0.76\n",
      "F1-score of logistic regression classifier on test set: 0.71\n"
     ]
    }
   ],
   "source": [
    "# Ваш код здесь\n",
    "\n",
    "lr_clf.fit(train_feature_matrix, train_labels)\n",
    "\n",
    "prediction_labels = lr_clf.predict(test_feature_matrix)\n",
    "\n",
    "print('Accuracy of logistic regression classifier on test set: {:.2f}'.format(\n",
    "    accuracy_score(y_true=test_labels, y_pred=prediction_labels)))\n",
    "print('F1-score of logistic regression classifier on test set: {:.2f}'.format(\n",
    "    f1_score(y_true=test_labels, y_pred=prediction_labels)))"
   ]
  },
  {
   "cell_type": "markdown",
   "metadata": {
    "colab_type": "text",
    "id": "9MKHZ2JC25pv"
   },
   "source": [
    "#### 2.2 Многоклассовая классификация: логистическая регрессия (40%)"
   ]
  },
  {
   "cell_type": "markdown",
   "metadata": {
    "colab_type": "text",
    "id": "P1mWe4kJ25pv"
   },
   "source": [
    "**Комментарий:**\n",
    "\n",
    "*Логистическая регрессия позволяет решать и задачу многоклассовой классификации. Класс ``LogisticRegression`` позвляет это делать двумя способами:* \n",
    "- *1. Стандартный One vs Rest (т.е. каждый класс отделяется от всех других). Параметр `multi_class='ovr'`.*\n",
    "- *2. Используюя кросс-энтропию (оценивается сразу вектор вероятностей принадлежности классам). Параметр `multi_class='multinomial'`.*\n",
    "\n",
    "*По умолчанию будем использовать второй способ.*\n"
   ]
  },
  {
   "cell_type": "markdown",
   "metadata": {
    "colab_type": "text",
    "id": "BGn7U05I25pw"
   },
   "source": [
    "Теперь будем работать со всеми 7 типами покрытия (данные уже находятся в переменных `feature_matrix` и `labels`, если Вы их не переопределили). Разделите выборку на обучающую и тестовую с помощью метода `train_test_split`, используйте значения параметров `test_size=0.2`, `random_state=42`. Обучите логистическую регрессию  на данном датасете."
   ]
  },
  {
   "cell_type": "code",
   "execution_count": 160,
   "metadata": {
    "colab": {
     "autoexec": {
      "startup": false,
      "wait_interval": 0
     }
    },
    "colab_type": "code",
    "id": "xqzEKcdD25px"
   },
   "outputs": [
    {
     "name": "stdout",
     "output_type": "stream",
     "text": [
      "Accuracy of logistic regression classifier on test set: 0.65\n"
     ]
    }
   ],
   "source": [
    "lr_clf = LogisticRegression(random_state=42, multi_class='multinomial', solver='saga', max_iter=1000, \n",
    "                            tol=0.001, n_jobs=-1)\n",
    "\n",
    "# Ваш код здесь\n",
    "\n",
    "train_feature_matrix, test_feature_matrix, train_labels, test_labels = train_test_split(\n",
    "    feature_matrix, labels, test_size=0.2, random_state=42)\n",
    "\n",
    "lr_clf.fit(train_feature_matrix, train_labels)\n",
    "prediction_labels = lr_clf.predict(test_feature_matrix)\n",
    "\n",
    "print('Accuracy of logistic regression classifier on test set: {:.2f}'.format(\n",
    "    accuracy_score(y_true=test_labels, y_pred=prediction_labels)))"
   ]
  },
  {
   "cell_type": "markdown",
   "metadata": {
    "colab_type": "text",
    "id": "5QqTntPq25p0"
   },
   "source": [
    "С помощью 5-кратной кросс-валидации (`GridSearchCV`) подберите оптимальное значение параметров `С` и `penalty`. Для параметра `C` используйте набор значений `np.linspace(0.01, 1, 10)`, а для `penalty` - `['l1', 'l2']`. Критерий качества `scoring = 'accuracy'`."
   ]
  },
  {
   "cell_type": "code",
   "execution_count": 161,
   "metadata": {
    "colab": {
     "autoexec": {
      "startup": false,
      "wait_interval": 0
     }
    },
    "colab_type": "code",
    "id": "j-M-porJ25p0"
   },
   "outputs": [
    {
     "data": {
      "text/plain": [
       "GridSearchCV(cv=5, error_score='raise',\n",
       "       estimator=LogisticRegression(C=1.0, class_weight=None, dual=False, fit_intercept=True,\n",
       "          intercept_scaling=1, max_iter=1000, multi_class='multinomial',\n",
       "          n_jobs=-1, penalty='l2', random_state=42, solver='saga',\n",
       "          tol=0.001, verbose=0, warm_start=False),\n",
       "       fit_params=None, iid=True, n_jobs=-1,\n",
       "       param_grid={'C': array([0.01, 0.12, 0.23, 0.34, 0.45, 0.56, 0.67, 0.78, 0.89, 1.  ]), 'penalty': ['l1', 'l2']},\n",
       "       pre_dispatch='2*n_jobs', refit=True, return_train_score=True,\n",
       "       scoring='accuracy', verbose=0)"
      ]
     },
     "execution_count": 161,
     "metadata": {},
     "output_type": "execute_result"
    }
   ],
   "source": [
    "# Ваш код здесь\n",
    "\n",
    "from sklearn.model_selection import GridSearchCV \n",
    "\n",
    "C_params = np.linspace(0.01, 1, 10)\n",
    "penalty_params = ['l1', 'l2']\n",
    "\n",
    "param_grid = {'C': C_params, 'penalty': ['l1', 'l2']}\n",
    "\n",
    "grid = GridSearchCV(lr_clf, param_grid=param_grid, cv=5, scoring='accuracy', return_train_score=True, n_jobs=-1)\n",
    "grid.fit(train_feature_matrix, train_labels)"
   ]
  },
  {
   "cell_type": "markdown",
   "metadata": {
    "colab_type": "text",
    "id": "rzsRzpiv25p2"
   },
   "source": [
    "Постройте графики средних значений критерия качества `accuracy` для типов регуляризации `l1` и `l2` в зависимости от коэффициента регуляризации `C`."
   ]
  },
  {
   "cell_type": "code",
   "execution_count": 162,
   "metadata": {},
   "outputs": [],
   "source": [
    "# Ваш код здесь\n",
    "%matplotlib inline\n",
    "import matplotlib.pyplot as plt"
   ]
  },
  {
   "cell_type": "code",
   "execution_count": 169,
   "metadata": {
    "colab": {
     "autoexec": {
      "startup": false,
      "wait_interval": 0
     }
    },
    "colab_type": "code",
    "id": "nYOrtHpy25p3"
   },
   "outputs": [
    {
     "name": "stdout",
     "output_type": "stream",
     "text": [
      "[{'C': 0.01, 'penalty': 'l1'}, {'C': 0.01, 'penalty': 'l2'}, {'C': 0.12, 'penalty': 'l1'}, {'C': 0.12, 'penalty': 'l2'}, {'C': 0.23, 'penalty': 'l1'}, {'C': 0.23, 'penalty': 'l2'}, {'C': 0.34, 'penalty': 'l1'}, {'C': 0.34, 'penalty': 'l2'}, {'C': 0.45, 'penalty': 'l1'}, {'C': 0.45, 'penalty': 'l2'}, {'C': 0.56, 'penalty': 'l1'}, {'C': 0.56, 'penalty': 'l2'}, {'C': 0.67, 'penalty': 'l1'}, {'C': 0.67, 'penalty': 'l2'}, {'C': 0.78, 'penalty': 'l1'}, {'C': 0.78, 'penalty': 'l2'}, {'C': 0.89, 'penalty': 'l1'}, {'C': 0.89, 'penalty': 'l2'}, {'C': 1.0, 'penalty': 'l1'}, {'C': 1.0, 'penalty': 'l2'}]\n",
      "[0.663125   0.65625    0.66421875 0.65609375 0.66453125 0.65609375\n",
      " 0.66453125 0.65609375 0.66453125 0.65609375 0.66453125 0.65609375\n",
      " 0.66453125 0.65609375 0.66453125 0.65609375 0.66453125 0.65609375\n",
      " 0.66453125 0.65609375]\n"
     ]
    }
   ],
   "source": [
    "print(grid.cv_results_['params'])\n",
    "print(grid.cv_results_['mean_test_score'])"
   ]
  },
  {
   "cell_type": "code",
   "execution_count": 170,
   "metadata": {},
   "outputs": [],
   "source": [
    "#  Четные - l1, нечетные - l2\n",
    "scores = grid.cv_results_['mean_test_score']\n",
    "l1_mean_scores = scores[::2]\n",
    "l2_mean_scores = scores[1::2]"
   ]
  },
  {
   "cell_type": "code",
   "execution_count": 176,
   "metadata": {},
   "outputs": [
    {
     "data": {
      "image/png": "[encoded data removed]",
      "text/plain": [
       "<Figure size 720x432 with 1 Axes>"
      ]
     },
     "metadata": {},
     "output_type": "display_data"
    }
   ],
   "source": [
    "fig = plt.figure(figsize=(10, 6))\n",
    "axes = fig.add_axes([0.1, 0.1, 0.8, 0.8])\n",
    "\n",
    "axes.plot(C_params, l1_mean_scores, color='r', linewidth=2, marker='8', label='l1')\n",
    "axes.plot(C_params, l2_mean_scores, color='g', linewidth=2, marker='s', label='l2')\n",
    "axes.grid(color='grey', which='both', linestyle=':', linewidth=0.5)\n",
    "axes.axhline(y=l1_mean_scores.max(), linestyle='--', color='b', label='Accuracy maximum')\n",
    "axes.set_xlabel('C')\n",
    "axes.set_ylabel(\"Accuracy\")  \n",
    "axes.legend()   \n",
    "\n",
    "plt.show()"
   ]
  },
  {
   "cell_type": "markdown",
   "metadata": {
    "colab_type": "text",
    "id": "IQraNf0M25p5"
   },
   "source": [
    "Проанализируйте полученные графики. Чему равны найденные оптимальные значения параметров `C` и `penalty`?"
   ]
  },
  {
   "cell_type": "markdown",
   "metadata": {},
   "source": [
    "Согласно графику, нужно использовать классификатор с параметрами: `C = 0.21` и `penalty = l1`"
   ]
  },
  {
   "cell_type": "code",
   "execution_count": 177,
   "metadata": {
    "colab": {
     "autoexec": {
      "startup": false,
      "wait_interval": 0
     }
    },
    "colab_type": "code",
    "id": "BkT1RWJj25p7"
   },
   "outputs": [],
   "source": [
    "# Ваш код здесь\n",
    "\n",
    "C_best = 0.21\n",
    "penalty_best = 'l1'"
   ]
  },
  {
   "cell_type": "markdown",
   "metadata": {
    "colab_type": "text",
    "id": "uIX7uVYk25p9"
   },
   "source": [
    "Используя найденные оптимальные значения `C` и `penalty`, обучите логистическую регрессию на обучающей выборке (train) и вычислите вероятности принадлежности к классам для тестовой (test)  выборки (`best_lr_clf.predict_proba`)."
   ]
  },
  {
   "cell_type": "code",
   "execution_count": 178,
   "metadata": {
    "colab": {
     "autoexec": {
      "startup": false,
      "wait_interval": 0
     }
    },
    "colab_type": "code",
    "id": "1rDNazlC25p9"
   },
   "outputs": [],
   "source": [
    "best_lr_clf = LogisticRegression(random_state=42, multi_class='multinomial', solver='saga', max_iter=1000, tol=0.001,\n",
    "                                C=C_best, penalty=penalty_best, n_jobs=-1)\n",
    "\n",
    "# Ваш код здесь\n",
    "\n",
    "best_lr_clf.fit(train_feature_matrix, train_labels)\n",
    "prediction = best_lr_clf.predict_proba(test_feature_matrix)"
   ]
  },
  {
   "cell_type": "markdown",
   "metadata": {
    "colab_type": "text",
    "id": "Ck7T2dGQ25p_"
   },
   "source": [
    "Для полученной матрицы вычислите усредненные по всем объектам из тестовой выборки значения вероятностей принадлежности к классам. Сравните ее оценкой вероятности принадлежности к классу на основе частот меток классов в обучающей выборке."
   ]
  },
  {
   "cell_type": "code",
   "execution_count": 179,
   "metadata": {
    "colab": {
     "autoexec": {
      "startup": false,
      "wait_interval": 0
     }
    },
    "colab_type": "code",
    "id": "JOf0BNix25qA",
    "scrolled": true
   },
   "outputs": [],
   "source": [
    "# Значения вероятностей принадлежности к классам, усредненные по все объектам из тестовой выборки\n",
    "test_mean_proba = prediction.mean(axis=0)\n",
    "test_mean_proba = test_mean_proba.tolist()\n",
    "\n",
    "\n",
    "# Оценка вероятности принадлежности к классу на основе частот меток классов в обучающей выборке \n",
    "train_mean_frequency = []\n",
    "for label in range(1,8):\n",
    "    train_mean_frequency.append(train_labels[train_labels == label].sum() / train_labels.sum())   "
   ]
  },
  {
   "cell_type": "code",
   "execution_count": 185,
   "metadata": {},
   "outputs": [
    {
     "data": {
      "text/html": [
       "<div>\n",
       "<style scoped>\n",
       "    .dataframe tbody tr th:only-of-type {\n",
       "        vertical-align: middle;\n",
       "    }\n",
       "\n",
       "    .dataframe tbody tr th {\n",
       "        vertical-align: top;\n",
       "    }\n",
       "\n",
       "    .dataframe thead th {\n",
       "        text-align: right;\n",
       "    }\n",
       "</style>\n",
       "<table border=\"1\" class=\"dataframe\">\n",
       "  <thead>\n",
       "    <tr style=\"text-align: right;\">\n",
       "      <th></th>\n",
       "      <th>Label</th>\n",
       "      <th>Probability on Test set</th>\n",
       "      <th>Frequency on Train set</th>\n",
       "    </tr>\n",
       "  </thead>\n",
       "  <tbody>\n",
       "    <tr>\n",
       "      <th>0</th>\n",
       "      <td>1</td>\n",
       "      <td>0.362975</td>\n",
       "      <td>0.182174</td>\n",
       "    </tr>\n",
       "    <tr>\n",
       "      <th>1</th>\n",
       "      <td>2</td>\n",
       "      <td>0.486488</td>\n",
       "      <td>0.478678</td>\n",
       "    </tr>\n",
       "    <tr>\n",
       "      <th>2</th>\n",
       "      <td>3</td>\n",
       "      <td>0.063009</td>\n",
       "      <td>0.085517</td>\n",
       "    </tr>\n",
       "    <tr>\n",
       "      <th>3</th>\n",
       "      <td>4</td>\n",
       "      <td>0.004208</td>\n",
       "      <td>0.008605</td>\n",
       "    </tr>\n",
       "    <tr>\n",
       "      <th>4</th>\n",
       "      <td>5</td>\n",
       "      <td>0.018426</td>\n",
       "      <td>0.043411</td>\n",
       "    </tr>\n",
       "    <tr>\n",
       "      <th>5</th>\n",
       "      <td>6</td>\n",
       "      <td>0.029914</td>\n",
       "      <td>0.087591</td>\n",
       "    </tr>\n",
       "    <tr>\n",
       "      <th>6</th>\n",
       "      <td>7</td>\n",
       "      <td>0.034979</td>\n",
       "      <td>0.114022</td>\n",
       "    </tr>\n",
       "  </tbody>\n",
       "</table>\n",
       "</div>"
      ],
      "text/plain": [
       "   Label  Probability on Test set  Frequency on Train set\n",
       "0      1                 0.362975                0.182174\n",
       "1      2                 0.486488                0.478678\n",
       "2      3                 0.063009                0.085517\n",
       "3      4                 0.004208                0.008605\n",
       "4      5                 0.018426                0.043411\n",
       "5      6                 0.029914                0.087591\n",
       "6      7                 0.034979                0.114022"
      ]
     },
     "execution_count": 185,
     "metadata": {},
     "output_type": "execute_result"
    }
   ],
   "source": [
    "data = {'Label': [1, 2, 3, 4, 5, 6, 7], 'Probability on Test set': test_mean_proba, \n",
    "        'Frequency on Train set': train_mean_frequency}\n",
    "\n",
    "\n",
    "pd.DataFrame(data)"
   ]
  },
  {
   "cell_type": "markdown",
   "metadata": {
    "colab_type": "text",
    "id": "VYogShkD25qD"
   },
   "source": [
    "#### 2.3 Многоклассовая классификация: kNN (30%)."
   ]
  },
  {
   "cell_type": "markdown",
   "metadata": {
    "colab_type": "text",
    "id": "BHVNCaJ325qD"
   },
   "source": [
    "Вспомним первое занятие. Обучите на том же датасете `KNeighborsClassifier` из `sklearn`."
   ]
  },
  {
   "cell_type": "code",
   "execution_count": 194,
   "metadata": {
    "colab": {
     "autoexec": {
      "startup": false,
      "wait_interval": 0
     }
    },
    "colab_type": "code",
    "id": "o4CMnnOY25qD"
   },
   "outputs": [
    {
     "name": "stdout",
     "output_type": "stream",
     "text": [
      "Accuracy of KNN classifier on test set: 0.74\n"
     ]
    }
   ],
   "source": [
    "from sklearn.neighbors import KNeighborsClassifier \n",
    "knn_clf = KNeighborsClassifier(weights='distance')\n",
    "knn_clf.fit(train_feature_matrix, train_labels)\n",
    "\n",
    "predictions = knn_clf.predict(test_feature_matrix)\n",
    "print('Accuracy of KNN classifier on test set: {:.2f}'.format(\n",
    "    accuracy_score(y_true=test_labels, y_pred=predictions)))"
   ]
  },
  {
   "cell_type": "markdown",
   "metadata": {
    "colab_type": "text",
    "id": "Yl_foM3u25qF"
   },
   "source": [
    "Попробуйте использовать различные стратегии вычисления весов: `[‘uniform’, ‘distance’]`. Выберите одно из них самостоятельно. Чем обоснован Ваш выбор?"
   ]
  },
  {
   "cell_type": "markdown",
   "metadata": {
    "colab_type": "text",
    "id": "8WzoRJZd25qF"
   },
   "source": [
    "Переберите по сетке от `1` до `10` параметр числа соседей. Покажите на графике, как менялись значения критерия качества `accuracy` при изменении числа соседей."
   ]
  },
  {
   "cell_type": "code",
   "execution_count": 200,
   "metadata": {
    "colab": {
     "autoexec": {
      "startup": false,
      "wait_interval": 0
     }
    },
    "colab_type": "code",
    "id": "4lMSy-6f25qG"
   },
   "outputs": [
    {
     "data": {
      "text/plain": [
       "GridSearchCV(cv=5, error_score='raise',\n",
       "       estimator=KNeighborsClassifier(algorithm='auto', leaf_size=30, metric='minkowski',\n",
       "           metric_params=None, n_jobs=1, n_neighbors=5, p=2,\n",
       "           weights='distance'),\n",
       "       fit_params=None, iid=True, n_jobs=-1,\n",
       "       param_grid={'n_neighbors': array([ 1,  2,  3,  4,  5,  6,  7,  8,  9, 10])},\n",
       "       pre_dispatch='2*n_jobs', refit=True, return_train_score=True,\n",
       "       scoring='accuracy', verbose=0)"
      ]
     },
     "execution_count": 200,
     "metadata": {},
     "output_type": "execute_result"
    }
   ],
   "source": [
    "neighbors_params = np.arange(1, 11)\n",
    "param_grid = {'n_neighbors': neighbors_params}\n",
    "\n",
    "grid = GridSearchCV(knn_clf, param_grid=param_grid, cv=5, scoring='accuracy', return_train_score=True, n_jobs=-1)\n",
    "grid.fit(train_feature_matrix, train_labels)"
   ]
  },
  {
   "cell_type": "markdown",
   "metadata": {
    "colab_type": "text",
    "id": "aBmiDbvV25qI"
   },
   "source": [
    "Используя найденное оптимальное число соседей, вычислите вероятности принадлежности к классам для тестовой выборки (`.predict_proba`)."
   ]
  },
  {
   "cell_type": "code",
   "execution_count": 205,
   "metadata": {
    "colab": {
     "autoexec": {
      "startup": false,
      "wait_interval": 0
     }
    },
    "colab_type": "code",
    "id": "ig_vS8O925qI",
    "scrolled": false
   },
   "outputs": [
    {
     "name": "stdout",
     "output_type": "stream",
     "text": [
      "Оптимальное число соседей: 1\n"
     ]
    }
   ],
   "source": [
    "neighbors_best = grid.best_params_['n_neighbors']\n",
    "print('Оптимальное число соседей: {:}'.format(neighbors_best))"
   ]
  },
  {
   "cell_type": "code",
   "execution_count": 206,
   "metadata": {},
   "outputs": [
    {
     "data": {
      "text/plain": [
       "array([[0., 1., 0., ..., 0., 0., 0.],\n",
       "       [1., 0., 0., ..., 0., 0., 0.],\n",
       "       [0., 1., 0., ..., 0., 0., 0.],\n",
       "       ...,\n",
       "       [0., 1., 0., ..., 0., 0., 0.],\n",
       "       [1., 0., 0., ..., 0., 0., 0.],\n",
       "       [1., 0., 0., ..., 0., 0., 0.]])"
      ]
     },
     "execution_count": 206,
     "metadata": {},
     "output_type": "execute_result"
    }
   ],
   "source": [
    "knn_clf = KNeighborsClassifier(weights='distance', n_neighbors=neighbors_best)\n",
    "knn_clf.fit(train_feature_matrix, train_labels)\n",
    "\n",
    "knn_clf.predict_proba(test_feature_matrix)"
   ]
  },
  {
   "cell_type": "markdown",
   "metadata": {
    "colab_type": "text",
    "id": "p41xvYTU25qK"
   },
   "source": [
    "#### 2.4 Сравнение результатов логистической регрессии и kNN (10%).\n",
    "\n",
    "В реальной жизни новые данные становятся доступны с течением времени. Сравните качество Вашей лучшей модели логистической регресии и лучшего kNN  на отложенной выборке `delayed_data`. Какая из моделей показала лучший результат?"
   ]
  },
  {
   "cell_type": "code",
   "execution_count": 212,
   "metadata": {
    "colab": {
     "autoexec": {
      "startup": false,
      "wait_interval": 0
     }
    },
    "colab_type": "code",
    "id": "xJFKTJx425qL"
   },
   "outputs": [
    {
     "name": "stdout",
     "output_type": "stream",
     "text": [
      "Accuracy of logistic regression classifier on delayed data: 0.66\n",
      "Accuracy of KNN classifier on delayed data: 0.76\n"
     ]
    }
   ],
   "source": [
    "delayed_data_labels = delayed_data[delayed_data.columns[-1]].values\n",
    "delayed_data_feature_matrix = delayed_data[delayed_data.columns[:-1]].values\n",
    "\n",
    "lr_predictions = lr_clf.predict(delayed_data_feature_matrix)\n",
    "knn_predictions = knn_clf.predict(delayed_data_feature_matrix)\n",
    "\n",
    "print('Accuracy of logistic regression classifier on delayed data: {:.2f}'.format(\n",
    "    accuracy_score(y_true=delayed_data_labels, y_pred=lr_predictions)))\n",
    "print('Accuracy of KNN classifier on delayed data: {:.2f}'.format(\n",
    "    accuracy_score(y_true=delayed_data_labels, y_pred=knn_predictions)))"
   ]
  }
 ],
 "metadata": {
  "colab": {
   "collapsed_sections": [
    "dKCiU0wz25pj",
    "9MKHZ2JC25pv",
    "VYogShkD25qD",
    "p41xvYTU25qK"
   ],
   "default_view": {},
   "name": "HW1_Logistic_regression_and_SVM.ipynb",
   "provenance": [],
   "version": "0.3.2",
   "views": {}
  },
  "kernelspec": {
   "display_name": "Python 3",
   "language": "python",
   "name": "python3"
  },
  "language_info": {
   "codemirror_mode": {
    "name": "ipython",
    "version": 3
   },
   "file_extension": ".py",
   "mimetype": "text/x-python",
   "name": "python",
   "nbconvert_exporter": "python",
   "pygments_lexer": "ipython3",
   "version": "3.6.5"
  }
 },
 "nbformat": 4,
 "nbformat_minor": 1
}
